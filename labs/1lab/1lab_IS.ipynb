{
 "cells": [
  {
   "cell_type": "markdown",
   "id": "sudden-province",
   "metadata": {},
   "source": [
    "**<center><h1>Приложение А</h1></center>**"
   ]
  },
  {
   "cell_type": "markdown",
   "id": "native-twist",
   "metadata": {},
   "source": [
    "|Вариант | Выполнил | Группа|\n",
    "|---|---|---|\n",
    "|7       | Тимофеев |437-2  |"
   ]
  },
  {
   "cell_type": "markdown",
   "id": "random-negative",
   "metadata": {},
   "source": [
    "# Вариант 7. Перестановочный шифр\n",
    "Напишите программу, позволяющую зашифровать и расшифровать сообщения с использованием перестановочного шифра. Количество столбцов и строк задается в программе. Входные и выходные данные запишите в файл типа .txt."
   ]
  },
  {
   "cell_type": "markdown",
   "id": "respected-creator",
   "metadata": {},
   "source": [
    "## Перестановочный шифр: \n",
    "Перестановочный шифр - это метод симметричного шифрования, в котором элементы исходного открытого текста меняют местами.\n",
    "Элементами текста могут быть отдельные символы (самый распространённый случай), пары букв, тройки букв, комбинирование этих случаев и так далее. \n",
    "> Типичными примерами перестановки являются анаграммы."
   ]
  },
  {
   "cell_type": "markdown",
   "id": "surprising-phone",
   "metadata": {},
   "source": [
    "## Описание алгоритма:\n",
    "\n",
    "**Алгоритм шифровки**: \n",
    " - создаём таблицу с заданным количеством столбцов\n",
    " - записываем символы входной строки в таблицу построчно (слева-направо сверху-вниз), если в строке таблице нет свободных ячеик продолжаем писать с новой строки\n",
    " - после того как входящая строка записана - считываем символы по столбцам (сверху-вниз слева-направо)\n",
    "\n",
    "\n",
    "**Алгоритм дешифровки**: \n",
    " - создаём таблицу с заданным количеством столбцов\n",
    " - расчитываем количество полных столбцов\n",
    " - в полных столбцах записываем элементы выходной строки по столбцам (сверху-вниз слева-направо)\n",
    " - в неполных столбцах оставляем 1 пустой символ\n",
    " - считываем (слева-направо сверху-вниз) (игнорируя пустые символы в конце)"
   ]
  },
  {
   "cell_type": "code",
   "execution_count": null,
   "id": "drawn-defensive",
   "metadata": {},
   "outputs": [],
   "source": []
  },
  {
   "cell_type": "markdown",
   "id": "studied-elements",
   "metadata": {},
   "source": [
    "### Описываем класс для шифорвки и дешифровки шифра перестановками\n",
    "У класса есть:\n",
    " - **Конструктор**: Принимает количество столбцов в таблице перестановок\n",
    " - **метод encode**: Метод для шифровки сообщения. Принимает текст который необходимо зашифровать\n",
    " - **метод decode**: Метод для расшифорфки сообщения. Принимает текст который необходимо расшифровать"
   ]
  },
  {
   "cell_type": "code",
   "execution_count": 1,
   "id": "devoted-timber",
   "metadata": {},
   "outputs": [],
   "source": [
    "from pprint import pprint\n",
    "\n",
    "class Permutations:\n",
    "    def __init__(self, table_cols: int):\n",
    "        self._T = table_cols\n",
    "        \n",
    "    def encode(self, text: str):\n",
    "        K: int = len(text) // self._T  # Количество полных стобцов\n",
    "        D: int = len(text) %  self._T  # Количество эелементов в неполной строке\n",
    "        C: list[str] = []\n",
    "        for i in range(self._T):\n",
    "            \n",
    "            d = 1 if i < D else 0\n",
    "            for j in range(K+d):\n",
    "                C.append(text[j*self._T+i])\n",
    "\n",
    "        return ''.join(C)\n",
    "    \n",
    "    def decode(self, text):\n",
    "        K: int = len(text) // self._T  # Количество полных стобцов\n",
    "        D: int = len(text) %  self._T  # Количество эелементов в неполной строке\n",
    "        M: list[str] = []\n",
    "        for i in range(K):\n",
    "            for j in range(D+1):\n",
    "                k = i+j*(K+1)\n",
    "                M.append(text[k])\n",
    "            r = D*(K+1)\n",
    "            for j in range(1,self._T-D):\n",
    "                k = i+r+j*K\n",
    "                M.append(text[k])\n",
    "        for j in range(D):\n",
    "            M.append(text[(j+1)*(K+1)-1])\n",
    "        return ''.join(M)"
   ]
  },
  {
   "cell_type": "markdown",
   "id": "rising-westminster",
   "metadata": {},
   "source": [
    "### Считываем текст который хотим зашифровать из файла input.txt"
   ]
  },
  {
   "cell_type": "code",
   "execution_count": 2,
   "id": "tutorial-powder",
   "metadata": {},
   "outputs": [
    {
     "name": "stdout",
     "output_type": "stream",
     "text": [
      "Содержание input.txt:\n",
      "'123456789 Вот он текст который необходимо зашифровать'\n"
     ]
    }
   ],
   "source": [
    "input_name = 'input.txt'\n",
    "\n",
    "with open(input_name, 'r', encoding='utf-8') as file:\n",
    "    исходеый_текст = file.read()\n",
    "\n",
    "print(f\"Содержание {input_name}:\")\n",
    "pprint(исходеый_текст)"
   ]
  },
  {
   "cell_type": "markdown",
   "id": "protected-belle",
   "metadata": {},
   "source": [
    "### Создаём объект Шифратора-Дешифратора"
   ]
  },
  {
   "cell_type": "code",
   "execution_count": 3,
   "id": "important-shelter",
   "metadata": {},
   "outputs": [],
   "source": [
    "количество_столбцов = 5\n",
    "шифр_перестановками = Permutations(количество_столбцов)"
   ]
  },
  {
   "cell_type": "markdown",
   "id": "single-motivation",
   "metadata": {},
   "source": [
    "### Шифруем строку и смотрим что получилось"
   ]
  },
  {
   "cell_type": "code",
   "execution_count": 4,
   "id": "administrative-microphone",
   "metadata": {},
   "outputs": [
    {
     "name": "stdout",
     "output_type": "stream",
     "text": [
      "'16Внст хоиа27о тоно фт38тт редзрь49 екыоиао5 окойбмшв'\n"
     ]
    }
   ],
   "source": [
    "зашифрованный_текст = шифр_перестановками.encode(исходеый_текст)\n",
    "pprint(зашифрованный_текст)"
   ]
  },
  {
   "cell_type": "markdown",
   "id": "impossible-popularity",
   "metadata": {},
   "source": [
    "### Теперь дешифруем строку обратно"
   ]
  },
  {
   "cell_type": "code",
   "execution_count": 5,
   "id": "rising-return",
   "metadata": {},
   "outputs": [
    {
     "name": "stdout",
     "output_type": "stream",
     "text": [
      "'123456789 Вот он текст который необходимо зашифровать'\n"
     ]
    }
   ],
   "source": [
    "расшифрованный_текст = шифр_перестановками.decode(зашифрованный_текст)\n",
    "pprint(расшифрованный_текст)"
   ]
  },
  {
   "cell_type": "code",
   "execution_count": 6,
   "id": "rocky-valuation",
   "metadata": {},
   "outputs": [],
   "source": [
    "output_name = 'output.txt'\n",
    "\n",
    "with open(output_name, 'w', encoding='utf-8') as file:\n",
    "    file.write(зашифрованный_текст)\n",
    "    file.write('\\n\\n')\n",
    "    file.write(расшифрованный_текст)"
   ]
  },
  {
   "cell_type": "markdown",
   "id": "unable-precipitation",
   "metadata": {},
   "source": [
    "## Запустим ещё раз с другим файлом"
   ]
  },
  {
   "cell_type": "code",
   "execution_count": 7,
   "id": "sized-companion",
   "metadata": {},
   "outputs": [
    {
     "name": "stdout",
     "output_type": "stream",
     "text": [
      "Содержание input2.txt:\n",
      "('Мы знаем, что такое байты,\\n'\n",
      " 'Система поиска и сайты,\\n'\n",
      " 'Умеем файлы создавать,\\n'\n",
      " 'Картинки «мышкой» рисовать,\\n'\n",
      " '\\n'\n",
      " 'И через интернет общаться,\\n'\n",
      " 'И в алгоритмах разбираться,\\n'\n",
      " 'И понимать язык программ.\\n'\n",
      " '\\n')\n"
     ]
    }
   ],
   "source": [
    "input_name = 'input2.txt'\n",
    "\n",
    "with open(input_name, 'r', encoding='utf-8') as file:\n",
    "    исходеый_текст = file.read()\n",
    "\n",
    "print(f\"Содержание {input_name}:\")\n",
    "pprint(исходеый_текст)"
   ]
  },
  {
   "cell_type": "markdown",
   "id": "north-gabriel",
   "metadata": {},
   "source": [
    "### Создаём объект Шифратора-Дешифратора\n",
    "Изменим количество столбцов"
   ]
  },
  {
   "cell_type": "code",
   "execution_count": 8,
   "id": "continued-singles",
   "metadata": {},
   "outputs": [],
   "source": [
    "количество_столбцов = 10\n",
    "шифр_перестановками = Permutations(количество_столбцов)"
   ]
  },
  {
   "cell_type": "markdown",
   "id": "noble-tennis",
   "metadata": {},
   "source": [
    "### Шифруем строку и смотрим что получилось"
   ]
  },
  {
   "cell_type": "code",
   "execution_count": 9,
   "id": "breathing-comment",
   "metadata": {},
   "outputs": [
    {
     "name": "stdout",
     "output_type": "stream",
     "text": [
      "('Мчбта\\n'\n",
      " 'лтк», оИтрпзмытае Уыьи \\n'\n",
      " 'иб маоым оймим , р\\n'\n",
      " 'нщватнк.з та ес\\n'\n",
      " '«иИта хьи \\n'\n",
      " 'нты сеоКмс ета смп\\n'\n",
      " 'аа,памзаыочрьлряарек\\n'\n",
      " 'ой дршвенсга,томоСитфаткареяоз\\n'\n",
      " 'ьг,еисыавиотет,рбИ р  ск,йанйьз \\n'\n",
      " 'ии яа')\n"
     ]
    }
   ],
   "source": [
    "зашифрованный_текст = шифр_перестановками.encode(исходеый_текст)\n",
    "pprint(зашифрованный_текст)"
   ]
  },
  {
   "cell_type": "markdown",
   "id": "plain-quick",
   "metadata": {},
   "source": [
    "### Теперь дешифруем строку обратно"
   ]
  },
  {
   "cell_type": "code",
   "execution_count": 10,
   "id": "stuffed-surgeon",
   "metadata": {},
   "outputs": [
    {
     "name": "stdout",
     "output_type": "stream",
     "text": [
      "('Мы знаем, что такое байты,\\n'\n",
      " 'Система поиска и сайты,\\n'\n",
      " 'Умеем файлы создавать,\\n'\n",
      " 'Картинки «мышкой» рисовать,\\n'\n",
      " '\\n'\n",
      " 'И через интернет общаться,\\n'\n",
      " 'И в алгоритмах разбираться,\\n'\n",
      " 'И понимать язык программ.\\n'\n",
      " '\\n')\n"
     ]
    }
   ],
   "source": [
    "расшифрованный_текст = шифр_перестановками.decode(зашифрованный_текст)\n",
    "pprint(расшифрованный_текст)"
   ]
  },
  {
   "cell_type": "code",
   "execution_count": 11,
   "id": "abandoned-saudi",
   "metadata": {},
   "outputs": [],
   "source": [
    "output_name = 'output2.txt'\n",
    "\n",
    "with open(output_name, 'w', encoding='utf-8') as file:\n",
    "    file.write(зашифрованный_текст)\n",
    "    file.write('\\n\\n')\n",
    "    file.write(расшифрованный_текст)\n",
    "    "
   ]
  }
 ],
 "metadata": {
  "kernelspec": {
   "display_name": "Python 3",
   "language": "python",
   "name": "python3"
  },
  "language_info": {
   "codemirror_mode": {
    "name": "ipython",
    "version": 3
   },
   "file_extension": ".py",
   "mimetype": "text/x-python",
   "name": "python",
   "nbconvert_exporter": "python",
   "pygments_lexer": "ipython3",
   "version": "3.9.1"
  }
 },
 "nbformat": 4,
 "nbformat_minor": 5
}
